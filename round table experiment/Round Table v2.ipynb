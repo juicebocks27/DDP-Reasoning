{
 "cells": [
  {
   "cell_type": "markdown",
   "metadata": {},
   "source": [
    "### Implememtation"
   ]
  },
  {
   "cell_type": "code",
   "execution_count": 16,
   "metadata": {},
   "outputs": [
    {
     "name": "stdout",
     "output_type": "stream",
     "text": [
      "Valid seating arrangements found: 16\n",
      "('K', 'L', 'M', 'N', 'P', 'O')\n",
      "('K', 'L', 'M', 'O', 'N', 'P')\n",
      "('K', 'L', 'M', 'P', 'N', 'O')\n",
      "('K', 'L', 'N', 'P', 'M', 'O')\n",
      "('K', 'N', 'P', 'L', 'M', 'O')\n",
      "('K', 'N', 'P', 'M', 'L', 'O')\n",
      "('K', 'O', 'L', 'M', 'N', 'P')\n",
      "('K', 'O', 'L', 'M', 'P', 'N')\n",
      "('K', 'O', 'M', 'L', 'N', 'P')\n",
      "('K', 'O', 'M', 'L', 'P', 'N')\n",
      "('K', 'O', 'M', 'P', 'N', 'L')\n",
      "('K', 'O', 'N', 'P', 'M', 'L')\n",
      "('K', 'O', 'P', 'N', 'M', 'L')\n",
      "('K', 'P', 'N', 'L', 'M', 'O')\n",
      "('K', 'P', 'N', 'M', 'L', 'O')\n",
      "('K', 'P', 'N', 'O', 'M', 'L')\n"
     ]
    }
   ],
   "source": [
    "import itertools\n",
    "\n",
    "# Define the list of representatives\n",
    "representatives = ['K', 'L', 'M', 'N', 'O', 'P']\n",
    "\n",
    "# Define the conditions for validation\n",
    "\n",
    "# 1. P sits immediately next to N\n",
    "def condition_1(arrangement):\n",
    "    return abs(arrangement.index('P') - arrangement.index('N')) == 1 or \\\n",
    "           abs(arrangement.index('P') - arrangement.index('N')) == len(arrangement) - 1\n",
    "\n",
    "# 2. L sits immediately next to M, N, or both\n",
    "def condition_2(arrangement):\n",
    "    return (abs(arrangement.index('L') - arrangement.index('M')) == 1 or\n",
    "            abs(arrangement.index('L') - arrangement.index('N')) == 1)\n",
    "\n",
    "# 3. K does not sit immediately next to M\n",
    "def condition_3(arrangement):\n",
    "    pos_K = arrangement.index('K')\n",
    "    pos_M = arrangement.index('M')\n",
    "    # Check if K and M are next to each other in a circular manner\n",
    "    return abs(pos_K - pos_M) != 1 and abs(pos_K - pos_M) != len(arrangement) - 1\n",
    "\n",
    "# 4. If O sits immediately next to P, O does not sit immediately next to M\n",
    "def condition_4(arrangement):\n",
    "    pos_O = arrangement.index('O')\n",
    "    pos_P = arrangement.index('P')\n",
    "    pos_M = arrangement.index('M')\n",
    "    # Check if O and P are next to each other\n",
    "    if abs(pos_O - pos_P) == 1 or abs(pos_O - pos_P) == len(arrangement) - 1:\n",
    "        # If O and P are next to each other, O should not be next to M\n",
    "        if abs(pos_O - pos_M) == 1 or abs(pos_O - pos_M) == len(arrangement) - 1:\n",
    "            return False\n",
    "    return True\n",
    "\n",
    "# Helper function to normalize circular permutations\n",
    "def normalize(arrangement):\n",
    "    \"\"\"Returns the lexicographically smallest rotation of the arrangement.\"\"\"\n",
    "    rotations = [arrangement[i:] + arrangement[:i] for i in range(len(arrangement))]\n",
    "    return min(rotations)\n",
    "\n",
    "# Generate all permutations of the seating arrangement\n",
    "all_arrangements = itertools.permutations(representatives)\n",
    "\n",
    "# Set to store unique valid arrangements (ignoring rotations)\n",
    "unique_valid_arrangements = set()\n",
    "\n",
    "# Iterate through all possible seating arrangements and check validity\n",
    "for arrangement in all_arrangements:\n",
    "    if (condition_1(arrangement) and condition_2(arrangement) and\n",
    "        condition_3(arrangement) and condition_4(arrangement)):\n",
    "        # Normalize and add to the set of unique valid arrangements\n",
    "        normalized_arrangement = normalize(arrangement)\n",
    "        unique_valid_arrangements.add(normalized_arrangement)\n",
    "\n",
    "# Display unique valid seating arrangements\n",
    "if unique_valid_arrangements:\n",
    "    print(\"Valid seating arrangements found:\", len(unique_valid_arrangements))\n",
    "    for valid in sorted(unique_valid_arrangements):\n",
    "        print(valid)\n",
    "else:\n",
    "    print(\"No valid seating arrangements found.\")"
   ]
  },
  {
   "cell_type": "markdown",
   "metadata": {},
   "source": [
    "### Layout"
   ]
  },
  {
   "cell_type": "code",
   "execution_count": 17,
   "metadata": {},
   "outputs": [
    {
     "name": "stdout",
     "output_type": "stream",
     "text": [
      "('K', 'O', 'M', 'P', 'N', 'L')\n"
     ]
    },
    {
     "data": {
      "image/png": "[encoded data removed]",
      "text/plain": [
       "<Figure size 600x600 with 1 Axes>"
      ]
     },
     "metadata": {},
     "output_type": "display_data"
    }
   ],
   "source": [
    "import networkx as nx\n",
    "import matplotlib.pyplot as plt\n",
    "\n",
    "# Define the first valid seating arrangement (replace with any valid arrangement)\n",
    "first_arrangement = list(unique_valid_arrangements)[0]\n",
    "\n",
    "print(first_arrangement)\n",
    "\n",
    "# Create a circular graph layout with NetworkX\n",
    "G = nx.DiGraph()\n",
    "\n",
    "# Add nodes and edges for circular arrangement\n",
    "for i in range(len(first_arrangement)):\n",
    "    G.add_node(first_arrangement[i])\n",
    "    G.add_edge(first_arrangement[i], first_arrangement[(i + 1) % len(first_arrangement)])\n",
    "\n",
    "# Plotting the circular seating arrangement\n",
    "plt.figure(figsize=(6, 6))\n",
    "pos = nx.circular_layout(G)\n",
    "nx.draw(G, pos, with_labels=True, node_size=2000, node_color='skyblue', font_size=12, font_weight='bold', edge_color='gray')\n",
    "\n",
    "plt.title('Circular Seating Arrangement')\n",
    "plt.show()\n"
   ]
  },
  {
   "cell_type": "markdown",
   "metadata": {},
   "source": [
    "### Valid Arrangements"
   ]
  },
  {
   "cell_type": "markdown",
   "metadata": {},
   "source": [
    "##### Which one of the following seating arrangements of the six representatives in chairs 1 through 6 would NOT violate the stated conditions?\n",
    "K, P, N, M, O, L\n",
    "\n",
    "K, L, M, P, N, O\n",
    "\n",
    "K, L, M, O, P, N\n",
    "\n",
    "K, O, P, N, L, M\n",
    "\n",
    "K, N, L, O, M, P"
   ]
  },
  {
   "cell_type": "code",
   "execution_count": 18,
   "metadata": {},
   "outputs": [
    {
     "name": "stdout",
     "output_type": "stream",
     "text": [
      "The arrangement ('K', 'P', 'N', 'M', 'O', 'L') is NOT valid.\n",
      "The arrangement ('K', 'L', 'M', 'P', 'N', 'O') is valid.\n",
      "The arrangement ('K', 'L', 'M', 'O', 'P', 'N') is NOT valid.\n",
      "The arrangement ('K', 'O', 'P', 'N', 'L', 'M') is NOT valid.\n",
      "The arrangement ('K', 'N', 'L', 'O', 'M', 'P') is NOT valid.\n"
     ]
    }
   ],
   "source": [
    "# Check if a given arrangement is valid based on the unique_valid_arrangements set\n",
    "def is_valid_arrangement(arrangement, valid_set):\n",
    "    # Normalize the arrangement to its lexicographically smallest rotation\n",
    "    normalized_arrangement = normalize(arrangement)\n",
    "    # Check if the normalized arrangement is in the set of valid arrangements\n",
    "    return normalized_arrangement in valid_set\n",
    "\n",
    "# Define the list of sample arrangements to check\n",
    "sample_arrangements = [\n",
    "    ('K', 'P', 'N', 'M', 'O', 'L'),\n",
    "    ('K', 'L', 'M', 'P', 'N', 'O'),\n",
    "    ('K', 'L', 'M', 'O', 'P', 'N'),\n",
    "    ('K', 'O', 'P', 'N', 'L', 'M'),\n",
    "    ('K', 'N', 'L', 'O', 'M', 'P')\n",
    "]\n",
    "\n",
    "# Check each arrangement and print the result\n",
    "for arrangement in sample_arrangements:\n",
    "    if is_valid_arrangement(arrangement, unique_valid_arrangements):\n",
    "        print(f\"The arrangement {arrangement} is valid.\")\n",
    "    else:\n",
    "        print(f\"The arrangement {arrangement} is NOT valid.\")"
   ]
  },
  {
   "cell_type": "code",
   "execution_count": 31,
   "metadata": {},
   "outputs": [],
   "source": [
    "# Function to return a dictionary mapping chair positions to representatives\n",
    "def seating_positions_from_arrangement(arrangement):\n",
    "    \"\"\"Returns a dictionary mapping chair positions (1 to 6) to representatives.\"\"\"\n",
    "    return {i + 1: person for i, person in enumerate(arrangement)}\n",
    "\n",
    "# Function to find who sits to the left of someone\n",
    "def who_sits_on_left(seating_positions, person):\n",
    "    # Get the position of the person\n",
    "    pos = [key for key, value in seating_positions.items() if value == person][0]\n",
    "    # Correctly calculate the left (counter-clockwise) position\n",
    "    left_pos = pos - 1 if pos - 1 > 0 else 6  # Wrap around to 6 if it's position 1\n",
    "    return seating_positions[left_pos]\n",
    "\n",
    "# Function to find who sits to the right of someone\n",
    "def who_sits_on_right(seating_positions, person):\n",
    "    # Get the position of the person\n",
    "    pos = [key for key, value in seating_positions.items() if value == person][0]\n",
    "    # Correctly calculate the right (clockwise) position\n",
    "    right_pos = pos + 1 if pos + 1 <= 6 else 1  # Wrap around to 1 if it's position 6\n",
    "    return seating_positions[right_pos]\n",
    "\n",
    "# Function to find who sits between two people\n",
    "def who_sits_between(seating_positions, person1, person2):\n",
    "    # Find their positions\n",
    "    pos1 = [key for key, value in seating_positions.items() if value == person1][0]\n",
    "    pos2 = [key for key, value in seating_positions.items() if value == person2][0]\n",
    "    \n",
    "    # Correctly handle the circular seating arrangement\n",
    "    # Positions of person1 and person2 in clockwise order\n",
    "    clockwise_pos1 = (pos1 - 1) % 6 + 1\n",
    "    clockwise_pos2 = (pos2 - 1) % 6 + 1\n",
    "    \n",
    "    # Find the person who sits between person1 and person2\n",
    "    if abs(clockwise_pos1 - clockwise_pos2) == 2:  # If adjacent chairs are 1 and 2 apart\n",
    "        between_pos = (clockwise_pos1 + 1) % 6  # Between position in clockwise direction\n",
    "        if between_pos == 0:\n",
    "            between_pos = 6\n",
    "        return seating_positions[between_pos]\n",
    "    return None\n",
    "\n",
    "# Function to query neighbors of a specific person in a given seating arrangement\n",
    "def query_neighbors(seating_position, person):\n",
    "    \"\"\"Query the neighbors of a person in the given seating arrangement.\"\"\"\n",
    "    print(f\"Querying neighbors of {person}:\")\n",
    "    seating_positions = seating_positions_from_arrangement(seating_position)\n",
    "    left_person = who_sits_on_left(seating_positions, person)\n",
    "    right_person = who_sits_on_right(seating_positions, person)\n",
    "    print(f\"In arrangement {seating_position}:\")\n",
    "    print(f\"{person} sits with {left_person} on the left and {right_person} on the right.\")\n",
    "\n",
    "# Function to query who sits between two specific people in a given arrangement\n",
    "def query_between(seating_position, person1, person2):\n",
    "    \"\"\"Query who sits between two people in the given seating arrangement.\"\"\"\n",
    "    print(f\"Querying who sits between {person1} and {person2}:\")\n",
    "    seating_positions = seating_positions_from_arrangement(seating_position)\n",
    "    person_between = who_sits_between(seating_positions, person1, person2)\n",
    "    if person_between:\n",
    "        print(f\"In arrangement {seating_position}: {person_between} sits between {person1} and {person2}.\")\n",
    "    else:\n",
    "        print(f\"In arrangement {seating_position}: No one sits between {person1} and {person2}.\")"
   ]
  },
  {
   "cell_type": "code",
   "execution_count": 32,
   "metadata": {},
   "outputs": [],
   "source": [
    "seating_arrangement = ('K', 'L', 'M', 'P', 'N', 'O')"
   ]
  },
  {
   "cell_type": "code",
   "execution_count": 33,
   "metadata": {},
   "outputs": [
    {
     "name": "stdout",
     "output_type": "stream",
     "text": [
      "{1: 'K', 2: 'L', 3: 'M', 4: 'P', 5: 'N', 6: 'O'}\n"
     ]
    }
   ],
   "source": [
    "# Example: Convert a seating arrangement into a dictionary\n",
    "seating_positions = seating_positions_from_arrangement(seating_arrangement)\n",
    "print(seating_positions)"
   ]
  },
  {
   "cell_type": "code",
   "execution_count": 34,
   "metadata": {},
   "outputs": [
    {
     "name": "stdout",
     "output_type": "stream",
     "text": [
      "Who sits to the left of P? M\n"
     ]
    }
   ],
   "source": [
    "# Example: Query who sits to the left of 'P'\n",
    "left_of_p = who_sits_on_left(seating_positions, 'P')\n",
    "print(f\"Who sits to the left of P? {left_of_p}\")"
   ]
  },
  {
   "cell_type": "code",
   "execution_count": 35,
   "metadata": {},
   "outputs": [
    {
     "name": "stdout",
     "output_type": "stream",
     "text": [
      "Who sits to the right of M? P\n"
     ]
    }
   ],
   "source": [
    "# Example: Query who sits to the right of 'M'\n",
    "right_of_m = who_sits_on_right(seating_positions, 'M')\n",
    "print(f\"Who sits to the right of M? {right_of_m}\")"
   ]
  },
  {
   "cell_type": "code",
   "execution_count": 36,
   "metadata": {},
   "outputs": [
    {
     "name": "stdout",
     "output_type": "stream",
     "text": [
      "Who sits between P and O? N\n"
     ]
    }
   ],
   "source": [
    "# Example: Query who sits between 'P' and 'O'\n",
    "person_between = who_sits_between(seating_positions, 'P', 'O')\n",
    "print(f\"Who sits between P and O? {person_between}\")"
   ]
  },
  {
   "cell_type": "code",
   "execution_count": 37,
   "metadata": {},
   "outputs": [
    {
     "name": "stdout",
     "output_type": "stream",
     "text": [
      "Querying neighbors of K:\n",
      "In arrangement ('K', 'L', 'M', 'P', 'N', 'O'):\n",
      "K sits with O on the left and L on the right.\n"
     ]
    }
   ],
   "source": [
    "# Example: Query neighbors of 'K'\n",
    "query_neighbors(seating_arrangement, 'K')"
   ]
  },
  {
   "cell_type": "code",
   "execution_count": 38,
   "metadata": {},
   "outputs": [
    {
     "name": "stdout",
     "output_type": "stream",
     "text": [
      "Querying who sits between N and O:\n",
      "In arrangement ('K', 'L', 'M', 'P', 'N', 'O'): No one sits between N and O.\n"
     ]
    }
   ],
   "source": [
    "# Example: Query who sits between 'N' and 'O'\n",
    "query_between(seating_arrangement, 'N', 'O')"
   ]
  },
  {
   "cell_type": "code",
   "execution_count": null,
   "metadata": {},
   "outputs": [],
   "source": []
  }
 ],
 "metadata": {
  "kernelspec": {
   "display_name": "Python 3",
   "language": "python",
   "name": "python3"
  },
  "language_info": {
   "codemirror_mode": {
    "name": "ipython",
    "version": 3
   },
   "file_extension": ".py",
   "mimetype": "text/x-python",
   "name": "python",
   "nbconvert_exporter": "python",
   "pygments_lexer": "ipython3",
   "version": "3.11.9"
  }
 },
 "nbformat": 4,
 "nbformat_minor": 2
}
