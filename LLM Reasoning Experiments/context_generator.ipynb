{
 "cells": [
  {
   "cell_type": "code",
   "execution_count": 8,
   "metadata": {},
   "outputs": [
    {
     "data": {
      "text/plain": [
       "''"
      ]
     },
     "execution_count": 8,
     "metadata": {},
     "output_type": "execute_result"
    }
   ],
   "source": [
    "import pandas as pd\n",
    "from fpdf import FPDF\n",
    "\n",
    "# Load the Excel file\n",
    "df = pd.read_excel('reasoning_dataset.xlsx', sheet_name='train')\n",
    "\n",
    "# Initialize PDF\n",
    "pdf = FPDF()\n",
    "pdf.set_auto_page_break(auto=True, margin=15)\n",
    "pdf.add_page()\n",
    "pdf.set_font(\"Arial\", size=12)\n",
    "\n",
    "# Helper function to clean text for FPDF\n",
    "def clean_text(text):\n",
    "    if isinstance(text, str):\n",
    "        return text.encode('latin-1', 'replace').decode('latin-1')\n",
    "    return text\n",
    "\n",
    "# Process each row\n",
    "question_number = 1\n",
    "for _, row in df.iterrows():\n",
    "    pdf.multi_cell(0, 10, f\"Question {question_number}:\")\n",
    "    \n",
    "    if not pd.isna(row['context']):\n",
    "        pdf.multi_cell(0, 10, f\"Context: {clean_text(row['context'])}\")\n",
    "    \n",
    "    if not pd.isna(row['question']):\n",
    "        pdf.multi_cell(0, 10, f\"Question: {clean_text(row['question'])}\")\n",
    "    \n",
    "    if not pd.isna(row['options']):\n",
    "        pdf.multi_cell(0, 10, f\"Options: {clean_text(row['options'])}\")\n",
    "    \n",
    "    if not pd.isna(row['answer']):\n",
    "        pdf.multi_cell(0, 10, f\"Answer: {clean_text(row['answer'])}\")\n",
    "    \n",
    "    if not pd.isna(row['explanation']):\n",
    "        pdf.multi_cell(0, 10, f\"Explanation: {clean_text(row['explanation'])}\")\n",
    "    \n",
    "    pdf.ln(10)  # Add some line breaks after each question\n",
    "    question_number += 1\n",
    "\n",
    "# Save the PDF\n",
    "pdf.output(\"reasoning_dataset_with_explanation.pdf\")"
   ]
  },
  {
   "cell_type": "code",
   "execution_count": 9,
   "metadata": {},
   "outputs": [
    {
     "data": {
      "text/plain": [
       "''"
      ]
     },
     "execution_count": 9,
     "metadata": {},
     "output_type": "execute_result"
    }
   ],
   "source": [
    "import pandas as pd\n",
    "from fpdf import FPDF\n",
    "\n",
    "# Load the Excel file\n",
    "df = pd.read_excel('reasoning_dataset.xlsx', sheet_name='train')\n",
    "\n",
    "# Initialize PDF\n",
    "pdf = FPDF()\n",
    "pdf.set_auto_page_break(auto=True, margin=15)\n",
    "pdf.add_page()\n",
    "pdf.set_font(\"Arial\", size=12)\n",
    "\n",
    "# Helper function to clean text for FPDF\n",
    "def clean_text(text):\n",
    "    if isinstance(text, str):\n",
    "        return text.encode('latin-1', 'replace').decode('latin-1')\n",
    "    return text\n",
    "\n",
    "# Process each row\n",
    "question_number = 1\n",
    "for _, row in df.iterrows():\n",
    "    pdf.multi_cell(0, 10, f\"Question {question_number}:\")\n",
    "    \n",
    "    if not pd.isna(row['context']):\n",
    "        pdf.multi_cell(0, 10, f\"Context: {clean_text(row['context'])}\")\n",
    "    \n",
    "    if not pd.isna(row['question']):\n",
    "        pdf.multi_cell(0, 10, f\"Question: {clean_text(row['question'])}\")\n",
    "    \n",
    "    if not pd.isna(row['options']):\n",
    "        pdf.multi_cell(0, 10, f\"Options: {clean_text(row['options'])}\")\n",
    "    \n",
    "    if not pd.isna(row['answer']):\n",
    "        pdf.multi_cell(0, 10, f\"Answer: {clean_text(row['answer'])}\")\n",
    "    \n",
    "    pdf.ln(10)  # Add some line breaks after each question\n",
    "    question_number += 1\n",
    "\n",
    "# Save the PDF\n",
    "pdf.output(\"reasoning_dataset_without_explanation.pdf\")"
   ]
  },
  {
   "cell_type": "code",
   "execution_count": null,
   "metadata": {},
   "outputs": [],
   "source": []
  }
 ],
 "metadata": {
  "kernelspec": {
   "display_name": "Python 3",
   "language": "python",
   "name": "python3"
  },
  "language_info": {
   "codemirror_mode": {
    "name": "ipython",
    "version": 3
   },
   "file_extension": ".py",
   "mimetype": "text/x-python",
   "name": "python",
   "nbconvert_exporter": "python",
   "pygments_lexer": "ipython3",
   "version": "3.11.9"
  }
 },
 "nbformat": 4,
 "nbformat_minor": 2
}
