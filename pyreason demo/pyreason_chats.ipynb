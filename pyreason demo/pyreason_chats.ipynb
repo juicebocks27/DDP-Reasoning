{
 "cells": [
  {
   "cell_type": "code",
   "execution_count": 1,
   "id": "14b217e4",
   "metadata": {},
   "outputs": [],
   "source": [
    "import networkx as nx\n",
    "\n",
    "# Create an empty graph\n",
    "G = nx.Graph()\n",
    "\n",
    "# Add nodes\n",
    "nodes = [\"TextMessage\", \"Zach\", \"Justin\", \"Michelle\", \"Amy\"]\n",
    "G.add_nodes_from(nodes)\n",
    "\n",
    "# Add edges with attribute 'HaveAccess'\n",
    "edges = [\n",
    "    (\"Zach\", \"TextMessage\", {\"HaveAccess\": 1}),\n",
    "    (\"Justin\", \"TextMessage\", {\"HaveAccess\": 1}),\n",
    "    (\"Michelle\", \"TextMessage\", {\"HaveAccess\": 1}),\n",
    "    (\"Amy\", \"TextMessage\", {\"HaveAccess\": 1})\n",
    "]\n",
    "G.add_edges_from(edges)"
   ]
  },
  {
   "cell_type": "code",
   "execution_count": 2,
   "id": "db8edc4d",
   "metadata": {},
   "outputs": [],
   "source": [
    "import pyreason as pr\n",
    "from pyreason import Threshold\n",
    "\n",
    "user_defined_thresholds = [\n",
    "        Threshold(\"greater_equal\", (\"number\", \"total\"), 1),\n",
    "        Threshold(\"greater_equal\", (\"percent\", \"total\"), 100),\n",
    "]\n",
    "\n",
    "pr.add_rule(pr.Rule('ViewedByAll(x) <- HaveAccess(x,y), Viewed(y)', 'viewed_by_all_rule', user_defined_thresholds))"
   ]
  },
  {
   "cell_type": "code",
   "execution_count": 3,
   "id": "88d4a377",
   "metadata": {},
   "outputs": [],
   "source": [
    "pr.add_fact(pr.Fact(\"seen-fact-zach\", \"Zach\", \"Viewed\", [1, 1], 0, 0, static=True))\n",
    "pr.add_fact(pr.Fact(\"seen-fact-justin\", \"Justin\", \"Viewed\", [1, 1], 0, 0, static=True))\n",
    "pr.add_fact(pr.Fact(\"seen-fact-michelle\", \"Michelle\", \"Viewed\", [1, 1], 1, 1, static=True))\n",
    "pr.add_fact(pr.Fact(\"seen-fact-amy\", \"Amy\", \"Viewed\", [1, 1], 2, 2, static=True))"
   ]
  },
  {
   "cell_type": "code",
   "execution_count": 4,
   "id": "8ea98f61",
   "metadata": {},
   "outputs": [],
   "source": [
    "# Test if the simple program works with thresholds defined\n",
    "import pyreason as pr\n",
    "from pyreason import Threshold\n",
    "\n",
    "\n",
    "def test_custom_thresholds():\n",
    "    # Reset PyReason\n",
    "    pr.reset()\n",
    "    pr.reset_rules()\n",
    "\n",
    "    # Modify the paths based on where you've stored the files we made above\n",
    "    graph_path = \"group_chat_graph.graphml\"\n",
    "\n",
    "    # Modify pyreason settings to make verbose and to save the rule trace to a file\n",
    "    pr.settings.verbose = True  # Print info to screen\n",
    "\n",
    "    # Load all the files into pyreason\n",
    "    pr.load_graphml(graph_path)\n",
    "\n",
    "    # add custom thresholds\n",
    "    user_defined_thresholds = [\n",
    "        Threshold(\"greater_equal\", (\"number\", \"total\"), 1),\n",
    "        Threshold(\"greater_equal\", (\"percent\", \"total\"), 100),\n",
    "    ]\n",
    "\n",
    "    pr.add_rule(\n",
    "        pr.Rule(\n",
    "            \"ViewedByAll(x) <- HaveAccess(x,y), Viewed(y)\",\n",
    "            \"viewed_by_all_rule\",\n",
    "            custom_thresholds=user_defined_thresholds,\n",
    "        )\n",
    "    )\n",
    "\n",
    "    pr.add_fact(pr.Fact(\"seen-fact-zach\", \"Zach\", \"Viewed\", [1, 1], 0, 3))\n",
    "    pr.add_fact(pr.Fact(\"seen-fact-justin\", \"Justin\", \"Viewed\", [1, 1], 0, 3))\n",
    "    pr.add_fact(pr.Fact(\"seen-fact-michelle\", \"Michelle\", \"Viewed\", [1, 1], 1, 3))\n",
    "    pr.add_fact(pr.Fact(\"seen-fact-amy\", \"Amy\", \"Viewed\", [1, 1], 2, 3))\n",
    "\n",
    "    # Run the program for three timesteps to see the diffusion take place\n",
    "    interpretation = pr.reason(timesteps=3)\n",
    "\n",
    "    # Display the changes in the interpretation for each timestep\n",
    "    dataframes = pr.filter_and_sort_nodes(interpretation, [\"ViewedByAll\"])\n",
    "    for t, df in enumerate(dataframes):\n",
    "        print(f\"TIMESTEP - {t}\")\n",
    "        print(df)\n",
    "        print()\n",
    "\n",
    "    assert (\n",
    "        len(dataframes[0]) == 0\n",
    "    ), \"At t=0 the TextMessage should not have been ViewedByAll\"\n",
    "    assert (\n",
    "        len(dataframes[2]) == 1\n",
    "    ), \"At t=2 the TextMessage should have been ViewedByAll\"\n",
    "\n",
    "    # TextMessage should be ViewedByAll in t=2\n",
    "    assert \"TextMessage\" in dataframes[2][\"component\"].values and dataframes[2].iloc[\n",
    "        0\n",
    "    ].ViewedByAll == [\n",
    "        1,\n",
    "        1,\n",
    "    ], \"TextMessage should have ViewedByAll bounds [1,1] for t=2 timesteps\""
   ]
  },
  {
   "cell_type": "code",
   "execution_count": 16,
   "id": "da5c0c41",
   "metadata": {},
   "outputs": [
    {
     "name": "stdout",
     "output_type": "stream",
     "text": [
      "Timestep: 0\n",
      "Timestep: 1\n",
      "Timestep: 2\n",
      "\n",
      "Converged at time: 2\n",
      "Fixed Point iterations: 6\n"
     ]
    }
   ],
   "source": [
    "# Modify the paths based on where you've stored the files we made above\n",
    "graph_path = \"group_chat_graph.graphml\"\n",
    "\n",
    "# Modify pyreason settings to make verbose and to save the rule trace to a file\n",
    "pr.settings.verbose = True  # Print info to screen\n",
    "\n",
    "# Load all the files into pyreason\n",
    "pr.load_graphml(graph_path)\n",
    "\n",
    "interpretation = pr.reason(timesteps=20)"
   ]
  },
  {
   "cell_type": "code",
   "execution_count": 17,
   "id": "f1686f4d",
   "metadata": {},
   "outputs": [
    {
     "name": "stdout",
     "output_type": "stream",
     "text": [
      "TIMESTEP - 0\n",
      "     component ViewedByAll      Viewed HaveAccess\n",
      "0         Zach      [0, 1]  [1.0, 1.0]     [0, 1]\n",
      "1       Justin      [0, 1]  [1.0, 1.0]     [0, 1]\n",
      "2  TextMessage  [1.0, 1.0]      [0, 1]     [0, 1]\n",
      "\n",
      "TIMESTEP - 1\n",
      "     component ViewedByAll      Viewed HaveAccess\n",
      "0         Zach      [0, 1]  [1.0, 1.0]     [0, 1]\n",
      "1       Justin      [0, 1]  [1.0, 1.0]     [0, 1]\n",
      "2     Michelle      [0, 1]  [1.0, 1.0]     [0, 1]\n",
      "3  TextMessage  [1.0, 1.0]      [0, 1]     [0, 1]\n",
      "\n",
      "TIMESTEP - 2\n",
      "     component ViewedByAll      Viewed HaveAccess\n",
      "0         Zach      [0, 1]  [1.0, 1.0]     [0, 1]\n",
      "1       Justin      [0, 1]  [1.0, 1.0]     [0, 1]\n",
      "2     Michelle      [0, 1]  [1.0, 1.0]     [0, 1]\n",
      "3          Amy      [0, 1]  [1.0, 1.0]     [0, 1]\n",
      "4  TextMessage  [1.0, 1.0]      [0, 1]     [0, 1]\n",
      "\n"
     ]
    }
   ],
   "source": [
    "# Assuming you have already run the reasoning\n",
    "dataframes = pr.filter_and_sort_nodes(interpretation, [\"ViewedByAll\", \"Viewed\", \"HaveAccess\"])\n",
    "\n",
    "# Display the relevant results\n",
    "for t, df in enumerate(dataframes):\n",
    "    print(f\"TIMESTEP - {t}\")\n",
    "    print(df)\n",
    "    print()"
   ]
  },
  {
   "cell_type": "markdown",
   "id": "1d286f7e",
   "metadata": {},
   "source": [
    "Check if \"TextMessage\" is Viewed by All:"
   ]
  },
  {
   "cell_type": "code",
   "execution_count": 18,
   "id": "56aba45f",
   "metadata": {},
   "outputs": [],
   "source": [
    "for t, df in enumerate(dataframes):\n",
    "    if t == 20:  # Check for timestep 2\n",
    "        if \"TextMessage\" in df[\"component\"].values:\n",
    "            print(\"TextMessage is viewed by all at timestep 2\")\n",
    "        else:\n",
    "            print(\"TextMessage is NOT viewed by all at timestep 2\")"
   ]
  },
  {
   "cell_type": "markdown",
   "id": "cbf084df",
   "metadata": {},
   "source": [
    "List All Components Viewed by \"Zach\":"
   ]
  },
  {
   "cell_type": "code",
   "execution_count": 19,
   "id": "5a665248",
   "metadata": {},
   "outputs": [
    {
     "name": "stdout",
     "output_type": "stream",
     "text": [
      "Components viewed by Zach at timestep 0:\n",
      "Components viewed by Zach at timestep 1:\n",
      "Components viewed by Zach at timestep 2:\n"
     ]
    }
   ],
   "source": [
    "for t, df in enumerate(dataframes):\n",
    "    viewed_by_zach = df[df['component'] == 'Zach']\n",
    "    print(f\"Components viewed by Zach at timestep {t}:\")\n",
    "    \n",
    "    # Print the DataFrame without the index and with spaced columns\n",
    "    # print(viewed_by_zach.to_string(index=False, justify='left'))\n",
    "    # print(viewed_by_zach)"
   ]
  },
  {
   "cell_type": "code",
   "execution_count": null,
   "id": "f95d4f02",
   "metadata": {},
   "outputs": [],
   "source": []
  },
  {
   "cell_type": "code",
   "execution_count": null,
   "id": "7beee520",
   "metadata": {},
   "outputs": [],
   "source": []
  }
 ],
 "metadata": {
  "kernelspec": {
   "display_name": "Python 3",
   "language": "python",
   "name": "python3"
  },
  "language_info": {
   "codemirror_mode": {
    "name": "ipython",
    "version": 3
   },
   "file_extension": ".py",
   "mimetype": "text/x-python",
   "name": "python",
   "nbconvert_exporter": "python",
   "pygments_lexer": "ipython3",
   "version": "3.11.9"
  }
 },
 "nbformat": 4,
 "nbformat_minor": 5
}
