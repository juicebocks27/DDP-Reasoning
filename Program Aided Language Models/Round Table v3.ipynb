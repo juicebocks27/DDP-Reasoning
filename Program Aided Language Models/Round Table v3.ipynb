{
 "cells": [
  {
   "cell_type": "markdown",
   "metadata": {},
   "source": [
    "### Implementation"
   ]
  },
  {
   "cell_type": "code",
   "execution_count": 13,
   "metadata": {},
   "outputs": [],
   "source": [
    "import itertools\n",
    "import networkx as nx\n",
    "import matplotlib.pyplot as plt"
   ]
  },
  {
   "cell_type": "code",
   "execution_count": 14,
   "metadata": {},
   "outputs": [],
   "source": [
    "# Define the list of representatives\n",
    "representatives = ['K', 'L', 'M', 'N', 'O', 'P']\n",
    "\n",
    "# Function to check if two people sit immediately next to each other\n",
    "def sits_next_to(arrangement, person1, person2):\n",
    "    n = len(arrangement)\n",
    "    return abs(arrangement.index(person1) - arrangement.index(person2)) == 1 or \\\n",
    "           abs(arrangement.index(person1) - arrangement.index(person2)) == n - 1\n",
    "\n",
    "# Function to check if a person sits next to any of a list of people\n",
    "def sits_next_to_any(arrangement, person, others):\n",
    "    n = len(arrangement)\n",
    "    return any(abs(arrangement.index(person) - arrangement.index(other)) == 1 or \n",
    "               abs(arrangement.index(person) - arrangement.index(other)) == n - 1 \n",
    "               for other in others)\n",
    "\n",
    "# Function to check if a person does not sit next to another person\n",
    "def does_not_sit_next_to(arrangement, person1, person2):\n",
    "    n = len(arrangement)\n",
    "    return abs(arrangement.index(person1) - arrangement.index(person2)) != 1 and \\\n",
    "           abs(arrangement.index(person1) - arrangement.index(person2)) != n - 1\n",
    "\n",
    "# Function to check the condition where one person sits next to another, and then a third person does not sit next to the second\n",
    "def sits_next_to_and_not_next_to(arrangement, person1, person2, person3):\n",
    "    n = len(arrangement)\n",
    "    pos1 = arrangement.index(person1)  # Position of O\n",
    "    pos2 = arrangement.index(person2)  # Position of P\n",
    "    pos3 = arrangement.index(person3)  # Position of M\n",
    "    \n",
    "    if abs(pos1 - pos2) == 1 or abs(pos1 - pos2) == n - 1:\n",
    "        return abs(pos1 - pos3) != 1 and abs(pos1 - pos3) != n - 1\n",
    "    return True\n",
    "\n",
    "\n",
    "# Helper function to normalize circular permutations\n",
    "def normalize(arrangement):\n",
    "    \"\"\"Returns the lexicographically smallest rotation of the arrangement.\"\"\"\n",
    "    n = len(arrangement)\n",
    "    rotations = [arrangement[i:] + arrangement[:i] for i in range(n)]\n",
    "    return min(rotations)\n",
    "\n",
    "# Function to return all valid arrangements based on a list of condition functions\n",
    "def find_valid_arrangements(arrangements, conditions):\n",
    "    unique_valid_arrangements = set()\n",
    "    \n",
    "    # Iterate through all possible seating arrangements and check validity for each condition\n",
    "    for arrangement in arrangements:\n",
    "        if all(condition(arrangement) for condition in conditions):\n",
    "            # Normalize and add to the set of unique valid arrangements\n",
    "            normalized_arrangement = normalize(arrangement)\n",
    "            unique_valid_arrangements.add(tuple(normalized_arrangement))\n",
    "    \n",
    "    return unique_valid_arrangements\n",
    "\n",
    "# Function to check if a given arrangement is valid based on the unique_valid_arrangements set\n",
    "def is_valid_arrangement(arrangement, valid_set):\n",
    "    # Normalize the arrangement to its lexicographically smallest rotation\n",
    "    normalized_arrangement = normalize(arrangement)\n",
    "    # Check if the normalized arrangement is in the set of valid arrangements\n",
    "    return tuple(normalized_arrangement) in valid_set\n",
    "\n",
    "# Function to return a dictionary mapping chair positions to representatives\n",
    "def seating_positions_from_arrangement(arrangement):\n",
    "    \"\"\"Returns a dictionary mapping chair positions (1 to len(arrangement)) to representatives.\"\"\"\n",
    "    return {i + 1: person for i, person in enumerate(arrangement)}\n",
    "\n",
    "# Function to find who sits to the left of someone\n",
    "def who_sits_on_left(seating_positions, person):\n",
    "    n = len(seating_positions)\n",
    "    pos = [key for key, value in seating_positions.items() if value == person][0]\n",
    "    # Correctly calculate the left (counter-clockwise) position\n",
    "    left_pos = pos - 1 if pos - 1 > 0 else n  # Wrap around to n if it's position 1\n",
    "    return seating_positions[left_pos]\n",
    "\n",
    "# Function to find who sits to the right of someone\n",
    "def who_sits_on_right(seating_positions, person):\n",
    "    n = len(seating_positions)\n",
    "    pos = [key for key, value in seating_positions.items() if value == person][0]\n",
    "    # Correctly calculate the right (clockwise) position\n",
    "    right_pos = pos + 1 if pos + 1 <= n else 1  # Wrap around to 1 if it's position n\n",
    "    return seating_positions[right_pos]\n",
    "\n",
    "# Function to correctly find the person sitting between two others\n",
    "def who_sits_between(seating_positions, person1, person2):\n",
    "    # Find the positions of person1 and person2 in the seating arrangement\n",
    "    pos1 = [key for key, value in seating_positions.items() if value == person1][0]\n",
    "    pos2 = [key for key, value in seating_positions.items() if value == person2][0]\n",
    "\n",
    "    n = len(seating_positions)  # Number of positions in the arrangement (dynamic)\n",
    "\n",
    "    # Check if the distance between them is exactly 2, indicating someone sits between\n",
    "    if abs(pos1 - pos2) == 2 or abs(pos1 - pos2) == n - 2:  # wrapping around\n",
    "        # Find the position between person1 and person2\n",
    "        between_pos = (pos1 + 1) if abs(pos1 - pos2) == 2 else (pos2 + 1)\n",
    "        # Ensure the position is wrapped correctly\n",
    "        between_pos = between_pos if between_pos <= n else 1  # wrap around to 1 if out of bounds\n",
    "\n",
    "        return seating_positions[between_pos]\n",
    "    \n",
    "    return None\n",
    "\n",
    "# Function to query neighbors of a specific person in a given seating arrangement\n",
    "def query_neighbors(seating_position, person):\n",
    "    \"\"\"Query the neighbors of a person in the given seating arrangement.\"\"\"\n",
    "    print(f\"Querying neighbors of {person}:\")\n",
    "    seating_positions = seating_positions_from_arrangement(seating_position)\n",
    "    left_person = who_sits_on_left(seating_positions, person)\n",
    "    right_person = who_sits_on_right(seating_positions, person)\n",
    "    print(f\"In arrangement {seating_position}:\")\n",
    "    print(f\"{person} sits with {left_person} on the left and {right_person} on the right.\")\n",
    "\n",
    "# Function to query who sits between two specific people in a given arrangement\n",
    "def query_between(seating_position, person1, person2):\n",
    "    \"\"\"Query who sits between two people in the given seating arrangement.\"\"\"\n",
    "    print(f\"Querying who sits between {person1} and {person2}:\")\n",
    "    seating_positions = seating_positions_from_arrangement(seating_position)\n",
    "    person_between = who_sits_between(seating_positions, person1, person2)\n",
    "    if person_between:\n",
    "        print(f\"In arrangement {seating_position}: {person_between} sits between {person1} and {person2}.\")\n",
    "    else:\n",
    "        print(f\"In arrangement {seating_position}: No one sits between {person1} and {person2}.\")\n",
    "\n",
    "def plot_circular_seating(arrangement):\n",
    "    \"\"\"\n",
    "    Plots a circular seating arrangement.\n",
    "\n",
    "    Parameters:\n",
    "    - arrangement (list): A list representing the seating arrangement.\n",
    "\n",
    "    Example:\n",
    "    >>> plot_circular_seating(['K', 'L', 'M', 'N', 'O', 'P'])\n",
    "    \"\"\"\n",
    "    if not arrangement or not isinstance(arrangement, list):\n",
    "        raise ValueError(\"Please provide a valid arrangement as a list.\")\n",
    "\n",
    "    # Create a directed graph for the circular arrangement\n",
    "    G = nx.DiGraph()\n",
    "\n",
    "    # Add nodes and edges to form a circular arrangement\n",
    "    for i in range(len(arrangement)):\n",
    "        G.add_node(arrangement[i])\n",
    "        G.add_edge(arrangement[i], arrangement[(i + 1) % len(arrangement)])\n",
    "\n",
    "    # Plot the circular arrangement\n",
    "    plt.figure(figsize=(6, 6))\n",
    "    pos = nx.circular_layout(G)\n",
    "    nx.draw(\n",
    "        G, \n",
    "        pos, \n",
    "        with_labels=True, \n",
    "        node_size=2000, \n",
    "        node_color='skyblue', \n",
    "        font_size=12, \n",
    "        font_weight='bold', \n",
    "        edge_color='gray'\n",
    "    )\n",
    "\n",
    "    plt.title('Circular Seating Arrangement')\n",
    "    plt.show()\n"
   ]
  },
  {
   "cell_type": "markdown",
   "metadata": {},
   "source": [
    "### Layout"
   ]
  },
  {
   "cell_type": "code",
   "execution_count": 15,
   "metadata": {},
   "outputs": [
    {
     "name": "stdout",
     "output_type": "stream",
     "text": [
      "Valid seating arrangements found: 16\n",
      "('K', 'L', 'M', 'N', 'P', 'O')\n",
      "('K', 'L', 'M', 'O', 'N', 'P')\n",
      "('K', 'L', 'M', 'P', 'N', 'O')\n",
      "('K', 'L', 'N', 'P', 'M', 'O')\n",
      "('K', 'N', 'P', 'L', 'M', 'O')\n",
      "('K', 'N', 'P', 'M', 'L', 'O')\n",
      "('K', 'O', 'L', 'M', 'N', 'P')\n",
      "('K', 'O', 'L', 'M', 'P', 'N')\n",
      "('K', 'O', 'M', 'L', 'N', 'P')\n",
      "('K', 'O', 'M', 'L', 'P', 'N')\n",
      "('K', 'O', 'M', 'P', 'N', 'L')\n",
      "('K', 'O', 'N', 'P', 'M', 'L')\n",
      "('K', 'O', 'P', 'N', 'M', 'L')\n",
      "('K', 'P', 'N', 'L', 'M', 'O')\n",
      "('K', 'P', 'N', 'M', 'L', 'O')\n",
      "('K', 'P', 'N', 'O', 'M', 'L')\n"
     ]
    }
   ],
   "source": [
    "# Generate all permutations of the seating arrangement\n",
    "all_arrangements = itertools.permutations(representatives)\n",
    "\n",
    "# Define the conditions for validation (generic ones)\n",
    "condition_1 = lambda arrangement: sits_next_to(arrangement, 'P', 'N')  # Example for P sits next to N\n",
    "condition_2 = lambda arrangement: sits_next_to_any(arrangement, 'L', ['M', 'N'])  # L sits next to M or N\n",
    "condition_3 = lambda arrangement: does_not_sit_next_to(arrangement, 'K', 'M')  # K does not sit next to M\n",
    "condition_4 = lambda arrangement: sits_next_to_and_not_next_to(arrangement, 'O', 'P', 'M')  # O next to P but not next to M\n",
    "\n",
    "# List of conditions to apply\n",
    "conditions = [condition_1, condition_2, condition_3, condition_4]\n",
    "\n",
    "# Find all valid arrangements based on the conditions\n",
    "valid_arrangements = find_valid_arrangements(all_arrangements, conditions)\n",
    "\n",
    "# Display unique valid seating arrangements\n",
    "if valid_arrangements:\n",
    "    print(\"Valid seating arrangements found:\", len(valid_arrangements))\n",
    "    for valid in sorted(valid_arrangements):\n",
    "        print(valid)\n",
    "else:\n",
    "    print(\"No valid seating arrangements found.\")"
   ]
  },
  {
   "cell_type": "code",
   "execution_count": 16,
   "metadata": {},
   "outputs": [
    {
     "data": {
      "image/png": "[encoded data removed]",
      "text/plain": [
       "<Figure size 600x600 with 1 Axes>"
      ]
     },
     "metadata": {},
     "output_type": "display_data"
    }
   ],
   "source": [
    "# Example usage:\n",
    "# Replace this with any valid arrangement\n",
    "example_arrangement = ['K', 'L', 'M', 'P', 'N', 'O']\n",
    "\n",
    "plot_circular_seating(example_arrangement)"
   ]
  },
  {
   "cell_type": "markdown",
   "metadata": {},
   "source": [
    "### Valid Arrangements"
   ]
  },
  {
   "cell_type": "markdown",
   "metadata": {},
   "source": [
    "##### Which one of the following seating arrangements of the six representatives in chairs 1 through 6 would NOT violate the stated conditions?\n",
    "K, P, N, M, O, L\n",
    "\n",
    "K, L, M, P, N, O\n",
    "\n",
    "K, L, M, O, P, N\n",
    "\n",
    "K, O, P, N, L, M\n",
    "\n",
    "K, N, L, O, M, P"
   ]
  },
  {
   "cell_type": "code",
   "execution_count": 17,
   "metadata": {},
   "outputs": [
    {
     "name": "stdout",
     "output_type": "stream",
     "text": [
      "{1: 'K', 2: 'L', 3: 'M', 4: 'P', 5: 'N', 6: 'O'}\n"
     ]
    }
   ],
   "source": [
    "seating_arrangement = ('K', 'L', 'M', 'P', 'N', 'O')\n",
    "# Example: Convert a seating arrangement into a dictionary\n",
    "seating_positions = seating_positions_from_arrangement(seating_arrangement)\n",
    "print(seating_positions)"
   ]
  },
  {
   "cell_type": "markdown",
   "metadata": {},
   "source": [
    "##### Exactly six trade representatives negotiate a treaty: K, L,M, N, O, P. There are exactly six chairs evenly spaced around a circular table. The chairs are numbered 1 through 6, with successively numbered chairs next to each other and chair number 1 next to chair number 6. Each chair is occupied by exactly one of the representatives. The following conditions apply:\n",
    "\n",
    "P sits immediately next to N.\n",
    "\n",
    "L sits immediately next to M, N, or both.\n",
    "\n",
    "K does not sit immediately next to M.\n",
    "\n",
    "If O sits immediately next to P, O does not sit immediately next to M."
   ]
  },
  {
   "cell_type": "code",
   "execution_count": 18,
   "metadata": {},
   "outputs": [
    {
     "name": "stdout",
     "output_type": "stream",
     "text": [
      "Valid seating arrangements found: 16\n",
      "('K', 'L', 'M', 'N', 'P', 'O')\n",
      "('K', 'L', 'M', 'O', 'N', 'P')\n",
      "('K', 'L', 'M', 'P', 'N', 'O')\n",
      "('K', 'L', 'N', 'P', 'M', 'O')\n",
      "('K', 'N', 'P', 'L', 'M', 'O')\n",
      "('K', 'N', 'P', 'M', 'L', 'O')\n",
      "('K', 'O', 'L', 'M', 'N', 'P')\n",
      "('K', 'O', 'L', 'M', 'P', 'N')\n",
      "('K', 'O', 'M', 'L', 'N', 'P')\n",
      "('K', 'O', 'M', 'L', 'P', 'N')\n",
      "('K', 'O', 'M', 'P', 'N', 'L')\n",
      "('K', 'O', 'N', 'P', 'M', 'L')\n",
      "('K', 'O', 'P', 'N', 'M', 'L')\n",
      "('K', 'P', 'N', 'L', 'M', 'O')\n",
      "('K', 'P', 'N', 'M', 'L', 'O')\n",
      "('K', 'P', 'N', 'O', 'M', 'L')\n"
     ]
    }
   ],
   "source": [
    "# Define the list of representatives\n",
    "representatives = ['K', 'L', 'M', 'N', 'O', 'P']\n",
    "\n",
    "# Generate all permutations of the seating arrangement\n",
    "all_arrangements = itertools.permutations(representatives)\n",
    "\n",
    "# Define the conditions for validation (generic ones)\n",
    "condition_1 = lambda arrangement: sits_next_to(arrangement, 'P', 'N')  # P sits next to N\n",
    "condition_2 = lambda arrangement: sits_next_to_any(arrangement, 'L', ['M', 'N'])  # L sits next to M or N\n",
    "condition_3 = lambda arrangement: does_not_sit_next_to(arrangement, 'K', 'M')  # K does not sit next to M\n",
    "condition_4 = lambda arrangement: sits_next_to_and_not_next_to(arrangement, 'O', 'P', 'M')  # O next to P but not next to M\n",
    "\n",
    "# List of conditions to apply\n",
    "conditions = [condition_1, condition_2, condition_3, condition_4]\n",
    "\n",
    "# Find all valid arrangements based on the conditions\n",
    "valid_arrangements = find_valid_arrangements(all_arrangements, conditions)\n",
    "\n",
    "# Display unique valid seating arrangements\n",
    "if valid_arrangements:\n",
    "    print(\"Valid seating arrangements found:\", len(valid_arrangements))\n",
    "    for valid in sorted(valid_arrangements):\n",
    "        print(valid)\n",
    "else:\n",
    "    print(\"No valid seating arrangements found.\")"
   ]
  },
  {
   "cell_type": "markdown",
   "metadata": {},
   "source": [
    "##### Which one of the following seating arrangements of the six representatives in chairs 1 through 6 would NOT violate the stated conditions?\n",
    "\n",
    "K, P, N, M, O, L\n",
    "\n",
    "K, L, M, P, N, O\n",
    "\n",
    "K, L, M, O, P, N\n",
    "\n",
    "K, O, P, N, L, M\n",
    "\n",
    "K, N, L, O, M, P"
   ]
  },
  {
   "cell_type": "code",
   "execution_count": 19,
   "metadata": {},
   "outputs": [
    {
     "name": "stdout",
     "output_type": "stream",
     "text": [
      "The arrangement ('K', 'P', 'N', 'M', 'O', 'L') is NOT valid.\n",
      "The arrangement ('K', 'L', 'M', 'P', 'N', 'O') is valid.\n",
      "The arrangement ('K', 'L', 'M', 'O', 'P', 'N') is NOT valid.\n",
      "The arrangement ('K', 'O', 'P', 'N', 'L', 'M') is NOT valid.\n",
      "The arrangement ('K', 'N', 'L', 'O', 'M', 'P') is NOT valid.\n"
     ]
    }
   ],
   "source": [
    "# Define the seating arrangements to check\n",
    "sample_arrangements = [\n",
    "    ('K', 'P', 'N', 'M', 'O', 'L'),\n",
    "    ('K', 'L', 'M', 'P', 'N', 'O'),\n",
    "    ('K', 'L', 'M', 'O', 'P', 'N'),\n",
    "    ('K', 'O', 'P', 'N', 'L', 'M'),\n",
    "    ('K', 'N', 'L', 'O', 'M', 'P')\n",
    "]\n",
    "\n",
    "# Define the conditions for validation\n",
    "condition_1 = lambda arrangement: sits_next_to(arrangement, 'P', 'N')  # P sits next to N\n",
    "condition_2 = lambda arrangement: sits_next_to_any(arrangement, 'L', ['M', 'N'])  # L sits next to M or N\n",
    "condition_3 = lambda arrangement: does_not_sit_next_to(arrangement, 'K', 'M')  # K does not sit next to M\n",
    "condition_4 = lambda arrangement: sits_next_to_and_not_next_to(arrangement, 'O', 'P', 'M')  # O next to P but not next to M\n",
    "\n",
    "# List of conditions to apply\n",
    "conditions = [condition_1, condition_2, condition_3, condition_4]\n",
    "\n",
    "# Check each arrangement and print the result\n",
    "for arrangement in sample_arrangements:\n",
    "    if all(condition(arrangement) for condition in conditions):\n",
    "        print(f\"The arrangement {arrangement} is valid.\")\n",
    "    else:\n",
    "        print(f\"The arrangement {arrangement} is NOT valid.\")"
   ]
  },
  {
   "cell_type": "markdown",
   "metadata": {},
   "source": [
    "##### If L sits immediately next to P, which one of the following is a pair of representatives who must sit immediately next to each other?\n",
    "\n",
    "K and O\n",
    "\n",
    "L and N\n",
    "\n",
    "L and O\n",
    "\n",
    "M and N\n",
    "\n",
    "M and P"
   ]
  },
  {
   "cell_type": "code",
   "execution_count": 20,
   "metadata": {},
   "outputs": [
    {
     "data": {
      "text/plain": [
       "{frozenset({'K', 'O'})}"
      ]
     },
     "execution_count": 20,
     "metadata": {},
     "output_type": "execute_result"
    }
   ],
   "source": [
    "# Filter valid arrangements where L sits next to P\n",
    "valid_arrangements_with_L_P_next_to_each_other = []\n",
    "\n",
    "for arrangement in valid_arrangements:\n",
    "    if sits_next_to(arrangement, 'L', 'P'):  # Check if L sits next to P\n",
    "        valid_arrangements_with_L_P_next_to_each_other.append(arrangement)\n",
    "\n",
    "# Check which pairs are always next to each other in these valid arrangements\n",
    "must_sit_next_to_pairs = set()\n",
    "\n",
    "for arrangement in valid_arrangements_with_L_P_next_to_each_other:\n",
    "    seating_positions = seating_positions_from_arrangement(arrangement)\n",
    "    \n",
    "    for person in seating_positions.values():\n",
    "        left_person = who_sits_on_left(seating_positions, person)\n",
    "        right_person = who_sits_on_right(seating_positions, person)\n",
    "        \n",
    "        must_sit_next_to_pairs.add(frozenset([person, left_person]))\n",
    "        must_sit_next_to_pairs.add(frozenset([person, right_person]))\n",
    "\n",
    "# Now, check the provided options to see which one must sit next to each other in all valid arrangements\n",
    "possible_pairs = {\n",
    "    frozenset(['K', 'O']),\n",
    "    frozenset(['L', 'N']),\n",
    "    frozenset(['L', 'O']),\n",
    "    frozenset(['M', 'N']),\n",
    "    frozenset(['M', 'P']),\n",
    "}\n",
    "\n",
    "# Find the intersection between the valid pairs and the options\n",
    "valid_pairs = possible_pairs.intersection(must_sit_next_to_pairs)\n",
    "\n",
    "# Output the result\n",
    "valid_pairs"
   ]
  },
  {
   "cell_type": "markdown",
   "metadata": {},
   "source": [
    "##### If K sits directly between L and P, then M must sit directly between\n",
    "\n",
    "L and N\n",
    "\n",
    "L and O\n",
    "\n",
    "N and O\n",
    "\n",
    "N and P\n",
    "\n",
    "O and P"
   ]
  },
  {
   "cell_type": "code",
   "execution_count": 21,
   "metadata": {},
   "outputs": [
    {
     "data": {
      "text/plain": [
       "('L', 'O')"
      ]
     },
     "execution_count": 21,
     "metadata": {},
     "output_type": "execute_result"
    }
   ],
   "source": [
    "# Filter valid arrangements where K sits directly between L and P\n",
    "valid_arrangements_with_K_between_L_and_P = []\n",
    "\n",
    "for arrangement in valid_arrangements:\n",
    "    seating_positions = seating_positions_from_arrangement(arrangement)\n",
    "    if who_sits_between(seating_positions, 'L', 'P') == 'K':\n",
    "        valid_arrangements_with_K_between_L_and_P.append(arrangement)\n",
    "\n",
    "# Now we need to find which pair must sit between the others\n",
    "must_sit_between_pairs = {}\n",
    "\n",
    "for arrangement in valid_arrangements_with_K_between_L_and_P:\n",
    "    seating_positions = seating_positions_from_arrangement(arrangement)\n",
    "    \n",
    "    # Check who sits between different pairs in the arrangement\n",
    "    for pair in [('L', 'N'), ('L', 'O'), ('N', 'O'), ('N', 'P'), ('O', 'P')]:\n",
    "        person1, person2 = pair\n",
    "        person_between = who_sits_between(seating_positions, person1, person2)\n",
    "        \n",
    "        # Only store the person who is between if they exist (i.e., if there's someone between them)\n",
    "        if person_between:\n",
    "            must_sit_between_pairs[person_between] = pair\n",
    "\n",
    "# Output the valid pair and the person who must sit between them\n",
    "must_sit_between_pairs['M']"
   ]
  },
  {
   "cell_type": "markdown",
   "metadata": {},
   "source": [
    "##### If N sits immediately next to M, then K can sit directly between\n",
    "\n",
    "L and M\n",
    "\n",
    "L and P\n",
    "\n",
    "N and O\n",
    "\n",
    "N and P\n",
    "\n",
    "P and O"
   ]
  },
  {
   "cell_type": "code",
   "execution_count": 22,
   "metadata": {},
   "outputs": [
    {
     "data": {
      "text/plain": [
       "{('P', 'O'): 'K'}"
      ]
     },
     "execution_count": 22,
     "metadata": {},
     "output_type": "execute_result"
    }
   ],
   "source": [
    "# Function to check if N sits immediately next to M\n",
    "def n_sits_next_to_m(arrangement):\n",
    "    return abs(arrangement.index('N') - arrangement.index('M')) == 1 or \\\n",
    "           abs(arrangement.index('N') - arrangement.index('M')) == len(arrangement) - 1\n",
    "\n",
    "# Filter valid arrangements where N sits immediately next to M\n",
    "valid_arrangements_with_N_next_to_M = []\n",
    "\n",
    "for arrangement in valid_arrangements:\n",
    "    if n_sits_next_to_m(arrangement):\n",
    "        valid_arrangements_with_N_next_to_M.append(arrangement)\n",
    "\n",
    "# Now we need to find which pair K can sit directly between\n",
    "must_sit_between_pairs_for_K = {}\n",
    "\n",
    "for arrangement in valid_arrangements_with_N_next_to_M:\n",
    "    seating_positions = seating_positions_from_arrangement(arrangement)\n",
    "    \n",
    "    # Check if K can sit between the specified pairs\n",
    "    for pair in [('L', 'M'), ('L', 'P'), ('N', 'O'), ('N', 'P'), ('P', 'O')]:\n",
    "        person1, person2 = pair\n",
    "        person_between = who_sits_between(seating_positions, person1, person2)\n",
    "        \n",
    "        # Only store the person who is between if they exist and it's K\n",
    "        if person_between == 'K':\n",
    "            must_sit_between_pairs_for_K[pair] = person_between\n",
    "\n",
    "# Output the valid pair and the person (K) who can sit between them\n",
    "must_sit_between_pairs_for_K"
   ]
  },
  {
   "cell_type": "markdown",
   "metadata": {},
   "source": [
    "##### If L sits immediately next to M, then which one of the following is a complete and accurate list of representatives any one of whom could also sit immediately next to L?\n",
    "\n",
    "K\n",
    "\n",
    "K, N\n",
    "\n",
    "N, P\n",
    "\n",
    "K, O, P\n",
    "\n",
    "K, N, O, P"
   ]
  },
  {
   "cell_type": "markdown",
   "metadata": {},
   "source": [
    "## Wrong"
   ]
  },
  {
   "cell_type": "code",
   "execution_count": 23,
   "metadata": {},
   "outputs": [
    {
     "data": {
      "text/plain": [
       "{'K', 'M', 'N', 'O', 'P'}"
      ]
     },
     "execution_count": 23,
     "metadata": {},
     "output_type": "execute_result"
    }
   ],
   "source": [
    "# Function to check if L sits immediately next to M\n",
    "def l_sits_next_to_m(arrangement):\n",
    "    return abs(arrangement.index('L') - arrangement.index('M')) == 1 or \\\n",
    "           abs(arrangement.index('L') - arrangement.index('M')) == len(arrangement) - 1\n",
    "\n",
    "# Filter valid arrangements where L sits immediately next to M\n",
    "valid_arrangements_with_L_next_to_M = []\n",
    "\n",
    "for arrangement in valid_arrangements:\n",
    "    if l_sits_next_to_m(arrangement):\n",
    "        valid_arrangements_with_L_next_to_M.append(arrangement)\n",
    "\n",
    "# Now, we need to check who can sit next to L in these arrangements\n",
    "possible_representatives_next_to_L = set()\n",
    "\n",
    "for arrangement in valid_arrangements_with_L_next_to_M:\n",
    "    seating_positions = seating_positions_from_arrangement(arrangement)\n",
    "    \n",
    "    # Check who sits on the left and right of L\n",
    "    left_of_L = who_sits_on_left(seating_positions, 'L')\n",
    "    right_of_L = who_sits_on_right(seating_positions, 'L')\n",
    "    \n",
    "    # Add both left and right neighbors to the set of possible representatives\n",
    "    possible_representatives_next_to_L.add(left_of_L)\n",
    "    possible_representatives_next_to_L.add(right_of_L)\n",
    "\n",
    "# Output the possible representatives who can sit next to L\n",
    "possible_representatives_next_to_L"
   ]
  },
  {
   "cell_type": "markdown",
   "metadata": {},
   "source": [
    "##### If L sits immediately next to N, which one of the following statements must be false?\n",
    "\n",
    "K sits immediately next to O.\n",
    "\n",
    "L sits immediately next to M.\n",
    "\n",
    "O sits immediately next to P.\n",
    "\n",
    "N sits directly between L and P.\n",
    "\n",
    "O sits directly between K and M."
   ]
  },
  {
   "cell_type": "code",
   "execution_count": 24,
   "metadata": {},
   "outputs": [
    {
     "data": {
      "text/plain": [
       "['O sits immediately next to P']"
      ]
     },
     "execution_count": 24,
     "metadata": {},
     "output_type": "execute_result"
    }
   ],
   "source": [
    "# Function to check if L sits next to N in the arrangement\n",
    "def l_sits_next_to_n(arrangement):\n",
    "    return abs(arrangement.index('L') - arrangement.index('N')) == 1 or \\\n",
    "           abs(arrangement.index('L') - arrangement.index('N')) == len(arrangement) - 1\n",
    "\n",
    "# Check all conditions for a given arrangement\n",
    "def check_statements(arrangement):\n",
    "    # Statement 1: K sits next to O\n",
    "    k_o = abs(arrangement.index('K') - arrangement.index('O')) == 1 or \\\n",
    "          abs(arrangement.index('K') - arrangement.index('O')) == len(arrangement) - 1\n",
    "\n",
    "    # Statement 2: L sits next to M\n",
    "    l_m = abs(arrangement.index('L') - arrangement.index('M')) == 1 or \\\n",
    "          abs(arrangement.index('L') - arrangement.index('M')) == len(arrangement) - 1\n",
    "\n",
    "    # Statement 3: O sits next to P\n",
    "    o_p = abs(arrangement.index('O') - arrangement.index('P')) == 1 or \\\n",
    "          abs(arrangement.index('O') - arrangement.index('P')) == len(arrangement) - 1\n",
    "\n",
    "    # Statement 4: N sits between L and P\n",
    "    n_between_l_p = who_sits_between(seating_positions_from_arrangement(arrangement), 'L', 'P') == 'N'\n",
    "\n",
    "    # Statement 5: O sits between K and M\n",
    "    o_between_k_m = who_sits_between(seating_positions_from_arrangement(arrangement), 'K', 'M') == 'O'\n",
    "\n",
    "    return k_o, l_m, o_p, n_between_l_p, o_between_k_m\n",
    "\n",
    "# Filter valid arrangements where L sits next to N\n",
    "valid_arrangements_with_L_next_to_N = []\n",
    "for arrangement in valid_arrangements:\n",
    "    if l_sits_next_to_n(arrangement):\n",
    "        valid_arrangements_with_L_next_to_N.append(arrangement)\n",
    "\n",
    "# Initialize counters for each statement\n",
    "statement_false_count = {\n",
    "    \"K sits immediately next to O\": 0,\n",
    "    \"L sits immediately next to M\": 0,\n",
    "    \"O sits immediately next to P\": 0,\n",
    "    \"N sits directly between L and P\": 0,\n",
    "    \"O sits directly between K and M\": 0,\n",
    "}\n",
    "\n",
    "# Check each valid arrangement\n",
    "for arrangement in valid_arrangements_with_L_next_to_N:\n",
    "    k_o, l_m, o_p, n_between_l_p, o_between_k_m = check_statements(arrangement)\n",
    "    \n",
    "    # Increment false count for statements that are false\n",
    "    if not k_o:\n",
    "        statement_false_count[\"K sits immediately next to O\"] += 1\n",
    "    if not l_m:\n",
    "        statement_false_count[\"L sits immediately next to M\"] += 1\n",
    "    if not o_p:\n",
    "        statement_false_count[\"O sits immediately next to P\"] += 1\n",
    "    if not n_between_l_p:\n",
    "        statement_false_count[\"N sits directly between L and P\"] += 1\n",
    "    if not o_between_k_m:\n",
    "        statement_false_count[\"O sits directly between K and M\"] += 1\n",
    "\n",
    "# Identify which statements are false for all arrangements\n",
    "false_statements = [statement for statement, count in statement_false_count.items() if count == len(valid_arrangements_with_L_next_to_N)]\n",
    "\n",
    "# Output the statements that must be false\n",
    "false_statements"
   ]
  },
  {
   "cell_type": "markdown",
   "metadata": {},
   "source": [
    "##### If K sits immediately next to O, then L CANNOT sit directly between\n",
    "\n",
    "K and M\n",
    "\n",
    "K and N\n",
    "\n",
    "M and N\n",
    "\n",
    "M and P\n",
    "\n",
    "N and O"
   ]
  },
  {
   "cell_type": "code",
   "execution_count": 25,
   "metadata": {},
   "outputs": [
    {
     "name": "stdout",
     "output_type": "stream",
     "text": [
      "Pairs where L cannot sit between:\n",
      "[('N', 'O')]\n"
     ]
    }
   ],
   "source": [
    "# Function to check if K sits immediately next to O\n",
    "def k_sits_next_to_o(arrangement):\n",
    "    return abs(arrangement.index('K') - arrangement.index('O')) == 1 or \\\n",
    "           abs(arrangement.index('K') - arrangement.index('O')) == len(arrangement) - 1\n",
    "\n",
    "# Function to check if L sits directly between two persons\n",
    "def l_sits_between(arrangement, person1, person2):\n",
    "    # Check seating positions and make sure they are correctly handled\n",
    "    pos1 = arrangement.index(person1)\n",
    "    pos2 = arrangement.index(person2)\n",
    "    \n",
    "    # The positions should be 2 apart, either directly or through the circular arrangement\n",
    "    if abs(pos1 - pos2) == 2 or abs(pos1 - pos2) == len(arrangement) - 2:\n",
    "        # Calculate the position of the person between them\n",
    "        mid_pos = (pos1 + 1) % len(arrangement)\n",
    "        if arrangement[mid_pos] == 'L':\n",
    "            return True\n",
    "    return False\n",
    "\n",
    "# List of pairs to check for L sitting between them\n",
    "pairs_to_check = [('K', 'M'), ('K', 'N'), ('M', 'N'), ('M', 'P'), ('N', 'O')]\n",
    "\n",
    "# Filter valid arrangements where K sits immediately next to O\n",
    "valid_arrangements_with_K_next_to_O = []\n",
    "for arrangement in valid_arrangements:\n",
    "    if k_sits_next_to_o(arrangement):\n",
    "        valid_arrangements_with_K_next_to_O.append(arrangement)\n",
    "\n",
    "# Set to keep track of pairs where L is sitting between\n",
    "pairs_L_sits_between = set()\n",
    "\n",
    "# Check for each arrangement and see if L sits between any of the pairs\n",
    "for arrangement in valid_arrangements_with_K_next_to_O:\n",
    "    for pair in pairs_to_check:\n",
    "        person1, person2 = pair\n",
    "        if l_sits_between(arrangement, person1, person2):\n",
    "            pairs_L_sits_between.add(pair)\n",
    "\n",
    "# The pairs where L cannot sit between are those not found in pairs_L_sits_between\n",
    "pairs_L_cannot_sit_between = [pair for pair in pairs_to_check if pair not in pairs_L_sits_between]\n",
    "\n",
    "# Output the pair(s) where L cannot sit between\n",
    "print(\"Pairs where L cannot sit between:\")\n",
    "print(pairs_L_cannot_sit_between)"
   ]
  },
  {
   "cell_type": "code",
   "execution_count": null,
   "metadata": {},
   "outputs": [],
   "source": []
  }
 ],
 "metadata": {
  "kernelspec": {
   "display_name": "Python 3",
   "language": "python",
   "name": "python3"
  },
  "language_info": {
   "codemirror_mode": {
    "name": "ipython",
    "version": 3
   },
   "file_extension": ".py",
   "mimetype": "text/x-python",
   "name": "python",
   "nbconvert_exporter": "python",
   "pygments_lexer": "ipython3",
   "version": "3.11.9"
  }
 },
 "nbformat": 4,
 "nbformat_minor": 2
}
